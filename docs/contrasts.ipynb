{
 "cells": [
  {
   "cell_type": "markdown",
   "metadata": {},
   "source": [
    "# Building contrasts\n",
    "\n",
    "This section explains how to build contrasts with a model that implements the `formulaic-contrasts` API. We start \n",
    "with the simple example of a pairwise comparison, then moving into more complex contrasts featuring \n",
    "interaction terms. \n",
    "\n",
    "All examples shown here are still relatively simple and the contrast vectors could be reasonably built manually. \n",
    "However, the approach still works for design matrices that have dozens or even hundreds of columns due to many variables\n",
    "and/or categories. \n",
    "\n",
    ":::{note}\n",
    "\n",
    "`formulaic-contrasts` doesn't implement any statistcal tests, it just provides tools for conveniently \n",
    "building contrast vectors that can be used with various statistical models. \n",
    "\n",
    ":::\n",
    "\n",
    "Let's consider the following toy dataset that mimicks a 2-arm clinical trial (`drugA` vs. `drugB`)\n",
    "with Responders (`responder`) and Non-responders (`non_responder`): "
   ]
  },
  {
   "cell_type": "code",
   "execution_count": 1,
   "metadata": {},
   "outputs": [
    {
     "data": {
      "text/html": [
       "<div>\n",
       "<style scoped>\n",
       "    .dataframe tbody tr th:only-of-type {\n",
       "        vertical-align: middle;\n",
       "    }\n",
       "\n",
       "    .dataframe tbody tr th {\n",
       "        vertical-align: top;\n",
       "    }\n",
       "\n",
       "    .dataframe thead th {\n",
       "        text-align: right;\n",
       "    }\n",
       "</style>\n",
       "<table border=\"1\" class=\"dataframe\">\n",
       "  <thead>\n",
       "    <tr style=\"text-align: right;\">\n",
       "      <th></th>\n",
       "      <th>treatment</th>\n",
       "      <th>response</th>\n",
       "      <th>biomarker</th>\n",
       "    </tr>\n",
       "  </thead>\n",
       "  <tbody>\n",
       "    <tr>\n",
       "      <th>0</th>\n",
       "      <td>drugA</td>\n",
       "      <td>non_responder</td>\n",
       "      <td>6.595490</td>\n",
       "    </tr>\n",
       "    <tr>\n",
       "      <th>1</th>\n",
       "      <td>drugA</td>\n",
       "      <td>non_responder</td>\n",
       "      <td>7.071509</td>\n",
       "    </tr>\n",
       "    <tr>\n",
       "      <th>2</th>\n",
       "      <td>drugA</td>\n",
       "      <td>non_responder</td>\n",
       "      <td>8.537421</td>\n",
       "    </tr>\n",
       "    <tr>\n",
       "      <th>3</th>\n",
       "      <td>drugA</td>\n",
       "      <td>non_responder</td>\n",
       "      <td>6.787991</td>\n",
       "    </tr>\n",
       "    <tr>\n",
       "      <th>4</th>\n",
       "      <td>drugA</td>\n",
       "      <td>non_responder</td>\n",
       "      <td>10.109717</td>\n",
       "    </tr>\n",
       "    <tr>\n",
       "      <th>...</th>\n",
       "      <td>...</td>\n",
       "      <td>...</td>\n",
       "      <td>...</td>\n",
       "    </tr>\n",
       "    <tr>\n",
       "      <th>75</th>\n",
       "      <td>drugB</td>\n",
       "      <td>responder</td>\n",
       "      <td>11.167627</td>\n",
       "    </tr>\n",
       "    <tr>\n",
       "      <th>76</th>\n",
       "      <td>drugB</td>\n",
       "      <td>responder</td>\n",
       "      <td>9.493773</td>\n",
       "    </tr>\n",
       "    <tr>\n",
       "      <th>77</th>\n",
       "      <td>drugB</td>\n",
       "      <td>responder</td>\n",
       "      <td>5.027817</td>\n",
       "    </tr>\n",
       "    <tr>\n",
       "      <th>78</th>\n",
       "      <td>drugB</td>\n",
       "      <td>responder</td>\n",
       "      <td>9.800762</td>\n",
       "    </tr>\n",
       "    <tr>\n",
       "      <th>79</th>\n",
       "      <td>drugB</td>\n",
       "      <td>responder</td>\n",
       "      <td>9.945963</td>\n",
       "    </tr>\n",
       "  </tbody>\n",
       "</table>\n",
       "<p>80 rows × 3 columns</p>\n",
       "</div>"
      ],
      "text/plain": [
       "   treatment       response  biomarker\n",
       "0      drugA  non_responder   6.595490\n",
       "1      drugA  non_responder   7.071509\n",
       "2      drugA  non_responder   8.537421\n",
       "3      drugA  non_responder   6.787991\n",
       "4      drugA  non_responder  10.109717\n",
       "..       ...            ...        ...\n",
       "75     drugB      responder  11.167627\n",
       "76     drugB      responder   9.493773\n",
       "77     drugB      responder   5.027817\n",
       "78     drugB      responder   9.800762\n",
       "79     drugB      responder   9.945963\n",
       "\n",
       "[80 rows x 3 columns]"
      ]
     },
     "execution_count": 1,
     "metadata": {},
     "output_type": "execute_result"
    }
   ],
   "source": [
    "import formulaic_contrasts\n",
    "\n",
    "df = formulaic_contrasts.datasets.treatment_response()\n",
    "df"
   ]
  },
  {
   "cell_type": "markdown",
   "metadata": {},
   "source": [
    "The measured biomarker has different means for responders and non-responders for each treatment, which suggests the biomarker \n",
    "could have predictive value."
   ]
  },
  {
   "cell_type": "code",
   "execution_count": 2,
   "metadata": {},
   "outputs": [
    {
     "data": {
      "text/html": [
       "<div>\n",
       "<style scoped>\n",
       "    .dataframe tbody tr th:only-of-type {\n",
       "        vertical-align: middle;\n",
       "    }\n",
       "\n",
       "    .dataframe tbody tr th {\n",
       "        vertical-align: top;\n",
       "    }\n",
       "\n",
       "    .dataframe thead th {\n",
       "        text-align: right;\n",
       "    }\n",
       "</style>\n",
       "<table border=\"1\" class=\"dataframe\">\n",
       "  <thead>\n",
       "    <tr style=\"text-align: right;\">\n",
       "      <th></th>\n",
       "      <th></th>\n",
       "      <th>biomarker</th>\n",
       "    </tr>\n",
       "    <tr>\n",
       "      <th>treatment</th>\n",
       "      <th>response</th>\n",
       "      <th></th>\n",
       "    </tr>\n",
       "  </thead>\n",
       "  <tbody>\n",
       "    <tr>\n",
       "      <th rowspan=\"2\" valign=\"top\">drugA</th>\n",
       "      <th>non_responder</th>\n",
       "      <td>6.791881</td>\n",
       "    </tr>\n",
       "    <tr>\n",
       "      <th>responder</th>\n",
       "      <td>5.142661</td>\n",
       "    </tr>\n",
       "    <tr>\n",
       "      <th rowspan=\"2\" valign=\"top\">drugB</th>\n",
       "      <th>non_responder</th>\n",
       "      <td>4.720502</td>\n",
       "    </tr>\n",
       "    <tr>\n",
       "      <th>responder</th>\n",
       "      <td>10.282279</td>\n",
       "    </tr>\n",
       "  </tbody>\n",
       "</table>\n",
       "</div>"
      ],
      "text/plain": [
       "                         biomarker\n",
       "treatment response                \n",
       "drugA     non_responder   6.791881\n",
       "          responder       5.142661\n",
       "drugB     non_responder   4.720502\n",
       "          responder      10.282279"
      ]
     },
     "execution_count": 2,
     "metadata": {},
     "output_type": "execute_result"
    }
   ],
   "source": [
    "df.groupby([\"treatment\", \"response\"]).agg(\"mean\")"
   ]
  },
  {
   "cell_type": "markdown",
   "metadata": {},
   "source": [
    "## Simple pairwise comparison\n",
    "\n",
    "Arguably the most commonly used contrast is to compare between two levels of a categorical variable. \n",
    "For instance, we could \n",
    "investigate differences between responders and non-responders, independent of treatment by fitting the model \n",
    "`~ response + treatment` and then comparing the category `\"responder\"` in the column `response` with the category `\"non_responder\"`.\n",
    "This can be achieved using the {func}`~formulaic_contrasts.FormulaicContrasts.contrast` method. "
   ]
  },
  {
   "cell_type": "code",
   "execution_count": 3,
   "metadata": {},
   "outputs": [
    {
     "data": {
      "text/plain": [
       "Intercept                0.0\n",
       "response[T.responder]    1.0\n",
       "treatment[T.drugB]       0.0\n",
       "Name: 0, dtype: float64"
      ]
     },
     "execution_count": 3,
     "metadata": {},
     "output_type": "execute_result"
    }
   ],
   "source": [
    "from formulaic_contrasts import FormulaicContrasts\n",
    "\n",
    "mod = FormulaicContrasts(df, \"~ response + treatment\")\n",
    "\n",
    "contrast = mod.contrast(\n",
    "    column=\"response\",\n",
    "    baseline=\"non_responder\",\n",
    "    group_to_compare=\"responder\",\n",
    ")\n",
    "contrast"
   ]
  },
  {
   "cell_type": "markdown",
   "metadata": {},
   "source": [
    "This is equivalent to the following {func}`~formulaic_contrasts.FormulaicContrasts.cond` call:"
   ]
  },
  {
   "cell_type": "code",
   "execution_count": 4,
   "metadata": {},
   "outputs": [
    {
     "data": {
      "text/plain": [
       "Intercept                0.0\n",
       "response[T.responder]    1.0\n",
       "treatment[T.drugB]       0.0\n",
       "Name: 0, dtype: float64"
      ]
     },
     "execution_count": 4,
     "metadata": {},
     "output_type": "execute_result"
    }
   ],
   "source": [
    "mod.cond(response=\"responder\") - mod.cond(response=\"non_responder\")"
   ]
  },
  {
   "cell_type": "markdown",
   "metadata": {},
   "source": [
    "## Comparison within a subset\n",
    "\n",
    "Additionally, we could be interested in differences between responders and non-responders *in `drugB` only*. \n",
    "While we could subset the data before fitting the model, we could also fit the full model including an interaction term `~ response * treatment` and define the contrast such that it compares within drugB only. "
   ]
  },
  {
   "cell_type": "code",
   "execution_count": 5,
   "metadata": {},
   "outputs": [
    {
     "data": {
      "text/plain": [
       "Intercept                                   0.0\n",
       "response[T.responder]                       1.0\n",
       "treatment[T.drugB]                          0.0\n",
       "response[T.responder]:treatment[T.drugB]    1.0\n",
       "Name: 0, dtype: float64"
      ]
     },
     "execution_count": 5,
     "metadata": {},
     "output_type": "execute_result"
    }
   ],
   "source": [
    "mod = FormulaicContrasts(df, \"~ response * treatment\")\n",
    "\n",
    "contrast = mod.cond(treatment=\"drugB\", response=\"responder\") - mod.cond(\n",
    "    treatment=\"drugB\", response=\"non_responder\"\n",
    ")\n",
    "contrast"
   ]
  },
  {
   "cell_type": "markdown",
   "metadata": {},
   "source": [
    "## Drug/response interaction\n",
    "\n",
    "Now, we are interested in the drug/response interaction, i.e. the difference of the differences between responders and non-responders \n",
    "in drugA and drugB, respectively. This is captured by the `response[T.responder]:treatment[T.drugB]` coefficient\n",
    "in the design matrix. This is how we derive this contrast vector using `.cond`: "
   ]
  },
  {
   "cell_type": "code",
   "execution_count": 6,
   "metadata": {},
   "outputs": [
    {
     "data": {
      "text/plain": [
       "Intercept                                   0.0\n",
       "response[T.responder]                       0.0\n",
       "treatment[T.drugB]                          0.0\n",
       "response[T.responder]:treatment[T.drugB]    1.0\n",
       "Name: 0, dtype: float64"
      ]
     },
     "execution_count": 6,
     "metadata": {},
     "output_type": "execute_result"
    }
   ],
   "source": [
    "mod = FormulaicContrasts(df, \"~ response * treatment\")\n",
    "\n",
    "contrast = (\n",
    "    mod.cond(treatment=\"drugB\", response=\"responder\")\n",
    "    - mod.cond(treatment=\"drugB\", response=\"non_responder\")\n",
    ") - (\n",
    "    mod.cond(treatment=\"drugA\", response=\"responder\")\n",
    "    - mod.cond(treatment=\"drugA\", response=\"non_responder\")\n",
    ")\n",
    "contrast"
   ]
  }
 ],
 "metadata": {
  "kernelspec": {
   "display_name": ".venv",
   "language": "python",
   "name": "python3"
  },
  "language_info": {
   "codemirror_mode": {
    "name": "ipython",
    "version": 3
   },
   "file_extension": ".py",
   "mimetype": "text/x-python",
   "name": "python",
   "nbconvert_exporter": "python",
   "pygments_lexer": "ipython3",
   "version": "3.11.10"
  }
 },
 "nbformat": 4,
 "nbformat_minor": 2
}
