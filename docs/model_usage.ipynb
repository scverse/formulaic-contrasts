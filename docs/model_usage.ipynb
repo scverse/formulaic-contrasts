{
 "cells": [
  {
   "cell_type": "markdown",
   "metadata": {},
   "source": [
    "# Usage in custom model \n",
    "\n",
    "## Via Inheritance \n",
    "\n",
    "The most straightforward way to use `formulaic-contrasts` with a custom model is to use {class}`~formulaic_contrasts.FormulaicContrasts`\n",
    "as a base class or mixin class.\n",
    "\n",
    "As an example, let's wrap an Ordinary Least Squares ({class}`~statsmodels.regression.linear_model.OLS`) linear model into a custom class\n",
    "for the use with `formulaic-contrasts`. The aim is to build a model that takes a pandas DataFrame and a formulaic formula as input\n",
    "allows to fit the model to a continuous variable from the dataframe and perform a statistical test for a given contrast. \n",
    "\n",
    "This can be achived with the following class definition. The constructor, the {func}`~formulaic_contrasts.FormulaicContrasts.contrast` and {func}`~formulaic_contrasts.FormulaicContrasts.cond` methods are inherited from the {class}`~formulaic_contrasts.FormulaicContrasts`\n",
    "base class:"
   ]
  },
  {
   "cell_type": "code",
   "execution_count": 1,
   "metadata": {},
   "outputs": [],
   "source": [
    "import formulaic_contrasts\n",
    "import numpy as np\n",
    "import statsmodels.api as sm\n",
    "\n",
    "\n",
    "class StatsmodelsOLS(formulaic_contrasts.FormulaicContrasts):\n",
    "    def fit(self, variable: str):\n",
    "        self.mod = sm.OLS(self.data[variable], self.design)\n",
    "        self.mod = self.mod.fit()\n",
    "\n",
    "    def t_test(self, contrast: np.ndarray):\n",
    "        return self.mod.t_test(contrast)"
   ]
  },
  {
   "cell_type": "markdown",
   "metadata": {},
   "source": [
    "Let's apply our model to an example dataset. The toy data mimicks a 2-arm clinical trial (`drugA` vs. `drugB`)\n",
    "with Responders (`responder`) and Non-responders (`non_responder`) and a continuous biomarker that can protentially\n",
    "predict response of the different treatments. "
   ]
  },
  {
   "cell_type": "code",
   "execution_count": 2,
   "metadata": {},
   "outputs": [
    {
     "data": {
      "text/html": [
       "<div>\n",
       "<style scoped>\n",
       "    .dataframe tbody tr th:only-of-type {\n",
       "        vertical-align: middle;\n",
       "    }\n",
       "\n",
       "    .dataframe tbody tr th {\n",
       "        vertical-align: top;\n",
       "    }\n",
       "\n",
       "    .dataframe thead th {\n",
       "        text-align: right;\n",
       "    }\n",
       "</style>\n",
       "<table border=\"1\" class=\"dataframe\">\n",
       "  <thead>\n",
       "    <tr style=\"text-align: right;\">\n",
       "      <th></th>\n",
       "      <th>treatment</th>\n",
       "      <th>response</th>\n",
       "      <th>biomarker</th>\n",
       "    </tr>\n",
       "  </thead>\n",
       "  <tbody>\n",
       "    <tr>\n",
       "      <th>0</th>\n",
       "      <td>drugA</td>\n",
       "      <td>non_responder</td>\n",
       "      <td>6.595490</td>\n",
       "    </tr>\n",
       "    <tr>\n",
       "      <th>1</th>\n",
       "      <td>drugA</td>\n",
       "      <td>non_responder</td>\n",
       "      <td>7.071509</td>\n",
       "    </tr>\n",
       "    <tr>\n",
       "      <th>2</th>\n",
       "      <td>drugA</td>\n",
       "      <td>non_responder</td>\n",
       "      <td>8.537421</td>\n",
       "    </tr>\n",
       "    <tr>\n",
       "      <th>3</th>\n",
       "      <td>drugA</td>\n",
       "      <td>non_responder</td>\n",
       "      <td>6.787991</td>\n",
       "    </tr>\n",
       "    <tr>\n",
       "      <th>4</th>\n",
       "      <td>drugA</td>\n",
       "      <td>non_responder</td>\n",
       "      <td>10.109717</td>\n",
       "    </tr>\n",
       "    <tr>\n",
       "      <th>...</th>\n",
       "      <td>...</td>\n",
       "      <td>...</td>\n",
       "      <td>...</td>\n",
       "    </tr>\n",
       "    <tr>\n",
       "      <th>75</th>\n",
       "      <td>drugB</td>\n",
       "      <td>responder</td>\n",
       "      <td>11.167627</td>\n",
       "    </tr>\n",
       "    <tr>\n",
       "      <th>76</th>\n",
       "      <td>drugB</td>\n",
       "      <td>responder</td>\n",
       "      <td>9.493773</td>\n",
       "    </tr>\n",
       "    <tr>\n",
       "      <th>77</th>\n",
       "      <td>drugB</td>\n",
       "      <td>responder</td>\n",
       "      <td>5.027817</td>\n",
       "    </tr>\n",
       "    <tr>\n",
       "      <th>78</th>\n",
       "      <td>drugB</td>\n",
       "      <td>responder</td>\n",
       "      <td>9.800762</td>\n",
       "    </tr>\n",
       "    <tr>\n",
       "      <th>79</th>\n",
       "      <td>drugB</td>\n",
       "      <td>responder</td>\n",
       "      <td>9.945963</td>\n",
       "    </tr>\n",
       "  </tbody>\n",
       "</table>\n",
       "<p>80 rows × 3 columns</p>\n",
       "</div>"
      ],
      "text/plain": [
       "   treatment       response  biomarker\n",
       "0      drugA  non_responder   6.595490\n",
       "1      drugA  non_responder   7.071509\n",
       "2      drugA  non_responder   8.537421\n",
       "3      drugA  non_responder   6.787991\n",
       "4      drugA  non_responder  10.109717\n",
       "..       ...            ...        ...\n",
       "75     drugB      responder  11.167627\n",
       "76     drugB      responder   9.493773\n",
       "77     drugB      responder   5.027817\n",
       "78     drugB      responder   9.800762\n",
       "79     drugB      responder   9.945963\n",
       "\n",
       "[80 rows x 3 columns]"
      ]
     },
     "execution_count": 2,
     "metadata": {},
     "output_type": "execute_result"
    }
   ],
   "source": [
    "df = formulaic_contrasts.datasets.treatment_response()\n",
    "df"
   ]
  },
  {
   "cell_type": "markdown",
   "metadata": {},
   "source": [
    "Let's fit the model an perform the statistical test"
   ]
  },
  {
   "cell_type": "code",
   "execution_count": 3,
   "metadata": {},
   "outputs": [
    {
     "data": {
      "text/plain": [
       "<class 'statsmodels.stats.contrast.ContrastResults'>\n",
       "                             Test for Constraints                             \n",
       "==============================================================================\n",
       "                 coef    std err          t      P>|t|      [0.025      0.975]\n",
       "------------------------------------------------------------------------------\n",
       "c0            -1.6492      0.935     -1.764      0.082      -3.512       0.213\n",
       "=============================================================================="
      ]
     },
     "execution_count": 3,
     "metadata": {},
     "output_type": "execute_result"
    }
   ],
   "source": [
    "model = StatsmodelsOLS(df, \"~ treatment * response\")\n",
    "model.fit(\"biomarker\")\n",
    "model.t_test(\n",
    "    model.contrast(\"response\", baseline=\"non_responder\", group_to_compare=\"responder\")\n",
    ")"
   ]
  },
  {
   "cell_type": "markdown",
   "metadata": {},
   "source": [
    "## Via Composition\n",
    "\n",
    "Alternatively, if you prefer to work without inheritance, you can use `FormulaicContrast` as an attribute. \n",
    "In this case, you need to define {func}`~formulaic_contrasts.FormulaicContrasts.cond`/{func}`~formulaic_contrasts.FormulaicContrasts.contrast` yourself, or provide a custom way to define contrasts, calling {func}`~formulaic_contrasts.FormulaicContrasts.cond` internally. A minimal implementation could look like:"
   ]
  },
  {
   "cell_type": "code",
   "execution_count": 4,
   "metadata": {},
   "outputs": [],
   "source": [
    "import pandas as pd\n",
    "\n",
    "\n",
    "class StatsmodelsOLS:\n",
    "    def __init__(self, data: pd.DataFrame, design: str) -> None:\n",
    "        self.data = data\n",
    "        self.contrast_builder = formulaic_contrasts.FormulaicContrasts(data, design)\n",
    "\n",
    "    def fit(self, variable: str):\n",
    "        self.mod = sm.OLS(self.data[variable], self.contrast_builder.design)\n",
    "        self.mod = self.mod.fit()\n",
    "\n",
    "    def cond(self, **kwargs):\n",
    "        return self.contrast_builder.cond(**kwargs)\n",
    "\n",
    "    def contrast(self, *args, **kwargs):\n",
    "        return self.contrast_builder.contrast(*args, **kwargs)\n",
    "\n",
    "    def t_test(self, contrast: np.ndarray):\n",
    "        return self.mod.t_test(contrast)"
   ]
  },
  {
   "cell_type": "markdown",
   "metadata": {},
   "source": [
    "The result is the same:"
   ]
  },
  {
   "cell_type": "code",
   "execution_count": null,
   "metadata": {},
   "outputs": [
    {
     "data": {
      "text/plain": [
       "<class 'statsmodels.stats.contrast.ContrastResults'>\n",
       "                             Test for Constraints                             \n",
       "==============================================================================\n",
       "                 coef    std err          t      P>|t|      [0.025      0.975]\n",
       "------------------------------------------------------------------------------\n",
       "c0            -1.6492      0.935     -1.764      0.082      -3.512       0.213\n",
       "=============================================================================="
      ]
     },
     "execution_count": 5,
     "metadata": {},
     "output_type": "execute_result"
    }
   ],
   "source": [
    "model = StatsmodelsOLS(df, \"~ treatment * response\")\n",
    "model.fit(\"biomarker\")\n",
    "model.t_test(\n",
    "    model.contrast(\"response\", baseline=\"non_responder\", group_to_compare=\"responder\")\n",
    ")"
   ]
  },
  {
   "cell_type": "markdown",
   "metadata": {},
   "source": [
    "## Manual usage\n",
    "\n",
    ":::{hint}\n",
    "\n",
    "Some helpful definitions for working with formulaic formulas (e.g. `~ 0 + C(donor):treatment + np.log1p(continuous)`):\n",
    " * A *term* refers to an expression in the formula, separated by `+`, e.g. `C(donor):treatment`, or `np.log1p(continuous)`.\n",
    " * A *variable* refers to a column of the data frame passed to formulaic, e.g. `donor`.\n",
    " * A *factor* is the specification of how a certain variable is represented in the design matrix, e.g. treatment coding with base level \"A\" and reduced rank.\n",
    "\n",
    ":::\n",
    "\n",
    "You can use the lower-level interface {func}`~formulaic_contrasts.get_factor_storage_and_materializer` to \n",
    "introspect formulaic models if the `FormulaicContrasts` class doesn't fit your needs.\n",
    "\n",
    "`get_factor_storage_and_materializer` will generate a custom [materializer](https://matthewwardrop.github.io/formulaic/dev/extensions/) \n",
    "that, while generating the design matrix from the input data and formula, keeps track of certain metadata that are \n",
    "useful for defining contrasts."
   ]
  },
  {
   "cell_type": "code",
   "execution_count": 6,
   "metadata": {},
   "outputs": [],
   "source": [
    "factor_storage, variables_to_factors, materializer_class = (\n",
    "    formulaic_contrasts.get_factor_storage_and_materializer()\n",
    ")"
   ]
  },
  {
   "cell_type": "markdown",
   "metadata": {},
   "source": [
    "If we apply the materializer to the example dataset from above..."
   ]
  },
  {
   "cell_type": "code",
   "execution_count": 7,
   "metadata": {},
   "outputs": [],
   "source": [
    "design_mat = materializer_class(df, record_factor_metadata=True).get_model_matrix(\n",
    "    \"~ treatment * response\"\n",
    ")"
   ]
  },
  {
   "cell_type": "markdown",
   "metadata": {},
   "source": [
    "... `factor_storage` will keep track of *factors* used in the formula, while `variables_to_factors` will keep \n",
    "track of *variables* used in the formula. The {class}`~formulaic_contrasts.FactorMetadata` objects contain information\n",
    "that is useful for building custom contrasts, such as the list of categories or the {func}`~formulaic_contrasts.FactorMetadata.base` \n",
    "level of categorical variables. "
   ]
  },
  {
   "cell_type": "code",
   "execution_count": 8,
   "metadata": {},
   "outputs": [
    {
     "name": "stdout",
     "output_type": "stream",
     "text": [
      "defaultdict(<class 'list'>,\n",
      "            {'response': [FactorMetadata(name='response',\n",
      "                                         reduced_rank=True,\n",
      "                                         custom_encoder=False,\n",
      "                                         categories=('non_responder',\n",
      "                                                     'responder'),\n",
      "                                         kind=<Kind.CATEGORICAL: 'categorical'>,\n",
      "                                         drop_field='non_responder',\n",
      "                                         column_names=('non_responder',\n",
      "                                                       'responder'),\n",
      "                                         colname_format='{name}[T.{field}]')],\n",
      "             'treatment': [FactorMetadata(name='treatment',\n",
      "                                          reduced_rank=True,\n",
      "                                          custom_encoder=False,\n",
      "                                          categories=('drugA', 'drugB'),\n",
      "                                          kind=<Kind.CATEGORICAL: 'categorical'>,\n",
      "                                          drop_field='drugA',\n",
      "                                          column_names=('drugA', 'drugB'),\n",
      "                                          colname_format='{name}[T.{field}]')]})\n"
     ]
    }
   ],
   "source": [
    "from pprint import pprint\n",
    "\n",
    "pprint(factor_storage)"
   ]
  },
  {
   "cell_type": "code",
   "execution_count": 9,
   "metadata": {},
   "outputs": [
    {
     "data": {
      "text/plain": [
       "defaultdict(set, {'treatment': {'treatment'}, 'response': {'response'}})"
      ]
     },
     "execution_count": 9,
     "metadata": {},
     "output_type": "execute_result"
    }
   ],
   "source": [
    "variables_to_factors"
   ]
  },
  {
   "cell_type": "markdown",
   "metadata": {},
   "source": [
    "In a slightly more complex (and argueably useless) example, the result would look like this: "
   ]
  },
  {
   "cell_type": "code",
   "execution_count": 10,
   "metadata": {},
   "outputs": [
    {
     "name": "stderr",
     "output_type": "stream",
     "text": [
      "/home/sturm/projects/scverse/formulaic-contrasts/.venv/lib/python3.11/site-packages/pandas/core/arraylike.py:399: RuntimeWarning: invalid value encountered in log\n",
      "  result = getattr(ufunc, method)(*inputs, **kwargs)\n"
     ]
    }
   ],
   "source": [
    "factor_storage, variables_to_factors, materializer_class = (\n",
    "    formulaic_contrasts.get_factor_storage_and_materializer()\n",
    ")\n",
    "design_mat = materializer_class(df, record_factor_metadata=True).get_model_matrix(\n",
    "    \"~ np.log(biomarker) + C(treatment, contr.treatment(base='drugB')) * C(response)\"\n",
    ")"
   ]
  },
  {
   "cell_type": "code",
   "execution_count": 11,
   "metadata": {},
   "outputs": [
    {
     "name": "stdout",
     "output_type": "stream",
     "text": [
      "defaultdict(<class 'list'>,\n",
      "            {'C(response)': [FactorMetadata(name='C(response)',\n",
      "                                            reduced_rank=True,\n",
      "                                            custom_encoder=True,\n",
      "                                            categories=('non_responder',\n",
      "                                                        'responder'),\n",
      "                                            kind=<Kind.CATEGORICAL: 'categorical'>,\n",
      "                                            drop_field=None,\n",
      "                                            column_names=('responder',),\n",
      "                                            colname_format='{name}[T.{field}]')],\n",
      "             \"C(treatment, contr.treatment(base='drugB'))\": [FactorMetadata(name='C(treatment, '\n",
      "                                                                                 \"contr.treatment(base='drugB'))\",\n",
      "                                                                            reduced_rank=True,\n",
      "                                                                            custom_encoder=True,\n",
      "                                                                            categories=('drugA',\n",
      "                                                                                        'drugB'),\n",
      "                                                                            kind=<Kind.CATEGORICAL: 'categorical'>,\n",
      "                                                                            drop_field=None,\n",
      "                                                                            column_names=('drugA',),\n",
      "                                                                            colname_format='{name}[T.{field}]')],\n",
      "             'np.log(biomarker)': [FactorMetadata(name='np.log(biomarker)',\n",
      "                                                  reduced_rank=False,\n",
      "                                                  custom_encoder=False,\n",
      "                                                  categories=(np.float64(-0.994572491384816),\n",
      "                                                              np.float64(-0.32292867440331624),\n",
      "                                                              np.float64(-0.241787230648226),\n",
      "                                                              np.float64(-0.07184946402122966),\n",
      "                                                              np.float64(0.5402788527682045),\n",
      "                                                              np.float64(0.5588358549592866),\n",
      "                                                              np.float64(0.5976024872603584),\n",
      "                                                              np.float64(0.6985411914333322),\n",
      "                                                              np.float64(0.8014619184523657),\n",
      "                                                              np.float64(0.9353144690102372),\n",
      "                                                              np.float64(0.9357602734122806),\n",
      "                                                              np.float64(0.9508095585482432),\n",
      "                                                              np.float64(1.0587960677139694),\n",
      "                                                              np.float64(1.1984152459673467),\n",
      "                                                              np.float64(1.250031921525277),\n",
      "                                                              np.float64(1.288736956185549),\n",
      "                                                              np.float64(1.3055160592797277),\n",
      "                                                              np.float64(1.318699316319654),\n",
      "                                                              np.float64(1.3691528193898392),\n",
      "                                                              np.float64(1.4011909677280152),\n",
      "                                                              np.float64(1.4696755716009422),\n",
      "                                                              np.float64(1.4848614510372413),\n",
      "                                                              np.float64(1.5042452056588211),\n",
      "                                                              np.float64(1.5347612081374633),\n",
      "                                                              np.float64(1.5586765895960253),\n",
      "                                                              np.float64(1.5915854505280886),\n",
      "                                                              np.float64(1.6133268972915464),\n",
      "                                                              np.float64(1.6149859295681703),\n",
      "                                                              np.float64(1.6427701026668886),\n",
      "                                                              np.float64(1.6541909597093103),\n",
      "                                                              np.float64(1.6706857016933832),\n",
      "                                                              np.float64(1.6800363836451575),\n",
      "                                                              np.float64(1.6874414702471792),\n",
      "                                                              np.float64(1.7114697163161487),\n",
      "                                                              np.float64(1.712291418836503),\n",
      "                                                              np.float64(1.7302545130901745),\n",
      "                                                              np.float64(1.744639763009614),\n",
      "                                                              np.float64(1.7498086372286121),\n",
      "                                                              np.float64(1.7842160982734327),\n",
      "                                                              np.float64(1.7871408509738518),\n",
      "                                                              np.float64(1.8077571345863106),\n",
      "                                                              np.float64(1.8126986617691452),\n",
      "                                                              np.float64(1.8332062854487814),\n",
      "                                                              np.float64(1.8502652368191275),\n",
      "                                                              np.float64(1.8819102495764126),\n",
      "                                                              np.float64(1.8863860690197658),\n",
      "                                                              np.float64(1.897341561353762),\n",
      "                                                              np.float64(1.9117530958321944),\n",
      "                                                              np.float64(1.9151549833413493),\n",
      "                                                              np.float64(1.918061067186584),\n",
      "                                                              np.float64(1.9188752897607209),\n",
      "                                                              np.float64(1.919357972842738),\n",
      "                                                              np.float64(1.9274811395788238),\n",
      "                                                              np.float64(1.9290675404526416),\n",
      "                                                              np.float64(1.9292525771899476),\n",
      "                                                              np.float64(1.956073906066531),\n",
      "                                                              np.float64(1.9839526394392006),\n",
      "                                                              np.float64(1.9906039715512525),\n",
      "                                                              np.float64(1.9942917406466534),\n",
      "                                                              np.float64(2.027629774683785),\n",
      "                                                              np.float64(2.0416152416364257),\n",
      "                                                              np.float64(2.0646278053535907),\n",
      "                                                              np.float64(2.1167677837306025),\n",
      "                                                              np.float64(2.123298339614755),\n",
      "                                                              np.float64(2.1407653917376552),\n",
      "                                                              np.float64(2.1444589627935478),\n",
      "                                                              np.float64(2.1600468598671436),\n",
      "                                                              np.float64(2.19915225165721),\n",
      "                                                              np.float64(2.250636108272607),\n",
      "                                                              np.float64(2.254466878298736),\n",
      "                                                              np.float64(2.2824601250615855),\n",
      "                                                              np.float64(2.29716673886693),\n",
      "                                                              np.float64(2.3134970542142574),\n",
      "                                                              np.float64(2.413019186969858),\n",
      "                                                              np.float64(2.4438604074304093),\n",
      "                                                              np.float64(2.5154775572854935),\n",
      "                                                              np.float64(2.516131763095562),\n",
      "                                                              np.float64(2.770430770362043)),\n",
      "                                                  kind=<Kind.NUMERICAL: 'numerical'>,\n",
      "                                                  drop_field=None,\n",
      "                                                  column_names=None,\n",
      "                                                  colname_format='{name}[{field}]')]})\n"
     ]
    }
   ],
   "source": [
    "pprint(factor_storage)"
   ]
  },
  {
   "cell_type": "code",
   "execution_count": 12,
   "metadata": {},
   "outputs": [
    {
     "data": {
      "text/plain": [
       "defaultdict(set,\n",
       "            {'biomarker': {'np.log(biomarker)'},\n",
       "             'np.log': {'np.log(biomarker)'},\n",
       "             'C': {'C(response)',\n",
       "              \"C(treatment, contr.treatment(base='drugB'))\"},\n",
       "             'contr.treatment': {\"C(treatment, contr.treatment(base='drugB'))\"},\n",
       "             'treatment': {\"C(treatment, contr.treatment(base='drugB'))\"},\n",
       "             'response': {'C(response)'}})"
      ]
     },
     "execution_count": 12,
     "metadata": {},
     "output_type": "execute_result"
    }
   ],
   "source": [
    "variables_to_factors"
   ]
  },
  {
   "cell_type": "code",
   "execution_count": null,
   "metadata": {},
   "outputs": [],
   "source": []
  }
 ],
 "metadata": {
  "kernelspec": {
   "display_name": ".venv",
   "language": "python",
   "name": "python3"
  },
  "language_info": {
   "codemirror_mode": {
    "name": "ipython",
    "version": 3
   },
   "file_extension": ".py",
   "mimetype": "text/x-python",
   "name": "python",
   "nbconvert_exporter": "python",
   "pygments_lexer": "ipython3",
   "version": "3.11.10"
  }
 },
 "nbformat": 4,
 "nbformat_minor": 2
}
