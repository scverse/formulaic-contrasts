{
 "cells": [
  {
   "cell_type": "markdown",
   "metadata": {},
   "source": [
    "# Usage in custom model \n",
    "\n",
    "## Via Inheritance \n",
    "\n",
    "The most straightforward way to use `formulaic-contrasts` with a custom model is to use {class}`~formulaic_contrasts.FormulaicContrasts`\n",
    "as a base class or mixin class.\n",
    "\n",
    "As an example, let's wrap an Ordinary Least Squares ({class}`~statsmodels.regression.linear_model.OLS`) linear model into a custom class\n",
    "for the use with `formulaic-contrasts`. The aim is to build a model that takes a pandas DataFrame and a formulaic formula as input\n",
    "allows to fit the model to a continuous variable from the dataframe and perform a statistical test for a given contrast. \n",
    "\n",
    "This can be achived with the following class definition. The constructor, the {func}`~formulaic_contrasts.FormulaicContrasts.contrast` and {func}`~formulaic_contrasts.FormulaicContrasts.cond` methods are inherited from the {class}`~formulaic_contrasts.FormulaicContrasts`\n",
    "base class:"
   ]
  },
  {
   "cell_type": "code",
   "execution_count": 57,
   "metadata": {},
   "outputs": [],
   "source": [
    "import formulaic_contrasts\n",
    "import numpy as np\n",
    "import statsmodels.api as sm\n",
    "\n",
    "\n",
    "class StatsmodelsOLS(formulaic_contrasts.FormulaicContrasts):\n",
    "    def fit(self, variable: str):\n",
    "        self.mod = sm.OLS(self.data[variable], self.design)\n",
    "        self.mod = self.mod.fit()\n",
    "\n",
    "    def t_test(self, contrast: np.ndarray):\n",
    "        return self.mod.t_test(contrast)"
   ]
  },
  {
   "cell_type": "markdown",
   "metadata": {},
   "source": [
    "Let's apply our model to an example dataset. The toy data mimicks a 2-arm clinical trial (`drugA` vs. `drugB`)\n",
    "with Responders (`responder`) and Non-responders (`non_responder`) and a continuous biomarker that can protentially\n",
    "predict response of the different treatments. "
   ]
  },
  {
   "cell_type": "code",
   "execution_count": 65,
   "metadata": {},
   "outputs": [
    {
     "data": {
      "text/html": [
       "<div>\n",
       "<style scoped>\n",
       "    .dataframe tbody tr th:only-of-type {\n",
       "        vertical-align: middle;\n",
       "    }\n",
       "\n",
       "    .dataframe tbody tr th {\n",
       "        vertical-align: top;\n",
       "    }\n",
       "\n",
       "    .dataframe thead th {\n",
       "        text-align: right;\n",
       "    }\n",
       "</style>\n",
       "<table border=\"1\" class=\"dataframe\">\n",
       "  <thead>\n",
       "    <tr style=\"text-align: right;\">\n",
       "      <th></th>\n",
       "      <th>treatment</th>\n",
       "      <th>response</th>\n",
       "      <th>biomarker</th>\n",
       "    </tr>\n",
       "  </thead>\n",
       "  <tbody>\n",
       "    <tr>\n",
       "      <th>0</th>\n",
       "      <td>drugA</td>\n",
       "      <td>non_responder</td>\n",
       "      <td>6.595490</td>\n",
       "    </tr>\n",
       "    <tr>\n",
       "      <th>1</th>\n",
       "      <td>drugA</td>\n",
       "      <td>non_responder</td>\n",
       "      <td>7.071509</td>\n",
       "    </tr>\n",
       "    <tr>\n",
       "      <th>2</th>\n",
       "      <td>drugA</td>\n",
       "      <td>non_responder</td>\n",
       "      <td>8.537421</td>\n",
       "    </tr>\n",
       "    <tr>\n",
       "      <th>3</th>\n",
       "      <td>drugA</td>\n",
       "      <td>non_responder</td>\n",
       "      <td>6.787991</td>\n",
       "    </tr>\n",
       "    <tr>\n",
       "      <th>4</th>\n",
       "      <td>drugA</td>\n",
       "      <td>non_responder</td>\n",
       "      <td>10.109717</td>\n",
       "    </tr>\n",
       "    <tr>\n",
       "      <th>...</th>\n",
       "      <td>...</td>\n",
       "      <td>...</td>\n",
       "      <td>...</td>\n",
       "    </tr>\n",
       "    <tr>\n",
       "      <th>75</th>\n",
       "      <td>drugB</td>\n",
       "      <td>responder</td>\n",
       "      <td>11.167627</td>\n",
       "    </tr>\n",
       "    <tr>\n",
       "      <th>76</th>\n",
       "      <td>drugB</td>\n",
       "      <td>responder</td>\n",
       "      <td>9.493773</td>\n",
       "    </tr>\n",
       "    <tr>\n",
       "      <th>77</th>\n",
       "      <td>drugB</td>\n",
       "      <td>responder</td>\n",
       "      <td>5.027817</td>\n",
       "    </tr>\n",
       "    <tr>\n",
       "      <th>78</th>\n",
       "      <td>drugB</td>\n",
       "      <td>responder</td>\n",
       "      <td>9.800762</td>\n",
       "    </tr>\n",
       "    <tr>\n",
       "      <th>79</th>\n",
       "      <td>drugB</td>\n",
       "      <td>responder</td>\n",
       "      <td>9.945963</td>\n",
       "    </tr>\n",
       "  </tbody>\n",
       "</table>\n",
       "<p>80 rows × 3 columns</p>\n",
       "</div>"
      ],
      "text/plain": [
       "   treatment       response  biomarker\n",
       "0      drugA  non_responder   6.595490\n",
       "1      drugA  non_responder   7.071509\n",
       "2      drugA  non_responder   8.537421\n",
       "3      drugA  non_responder   6.787991\n",
       "4      drugA  non_responder  10.109717\n",
       "..       ...            ...        ...\n",
       "75     drugB      responder  11.167627\n",
       "76     drugB      responder   9.493773\n",
       "77     drugB      responder   5.027817\n",
       "78     drugB      responder   9.800762\n",
       "79     drugB      responder   9.945963\n",
       "\n",
       "[80 rows x 3 columns]"
      ]
     },
     "execution_count": 65,
     "metadata": {},
     "output_type": "execute_result"
    }
   ],
   "source": [
    "df = formulaic_contrasts.datasets.treatment_response()\n",
    "df"
   ]
  },
  {
   "cell_type": "markdown",
   "metadata": {},
   "source": [
    "Let's fit the model an perform the statistical test"
   ]
  },
  {
   "cell_type": "code",
   "execution_count": 66,
   "metadata": {},
   "outputs": [
    {
     "data": {
      "text/plain": [
       "<class 'statsmodels.stats.contrast.ContrastResults'>\n",
       "                             Test for Constraints                             \n",
       "==============================================================================\n",
       "                 coef    std err          t      P>|t|      [0.025      0.975]\n",
       "------------------------------------------------------------------------------\n",
       "c0            -1.6492      0.935     -1.764      0.082      -3.512       0.213\n",
       "=============================================================================="
      ]
     },
     "execution_count": 66,
     "metadata": {},
     "output_type": "execute_result"
    }
   ],
   "source": [
    "model = StatsmodelsOLS(df, \"~ treatment * response\")\n",
    "model.fit(\"biomarker\")\n",
    "model.t_test(model.contrast(\"response\", baseline=\"non_responder\", group_to_compare=\"responder\"))"
   ]
  },
  {
   "cell_type": "markdown",
   "metadata": {},
   "source": [
    "## Via Composition\n",
    "\n",
    "Alternatively, if you prefer to work without inheritance, you can use `FormulaicContrast` as an attribute. \n",
    "In this case, you need to define {func}`~formulaic_contrasts.FormulaicContrasts.cond`/{func}`~formulaic_contrasts.FormulaicContrasts.contrast` yourself, or provide a custom way to define contrasts, calling {func}`~formulaic_contrasts.FormulaicContrasts.cond` internally. A minimal implementation could look like:"
   ]
  },
  {
   "cell_type": "code",
   "execution_count": 69,
   "metadata": {},
   "outputs": [],
   "source": [
    "import pandas as pd\n",
    "\n",
    "\n",
    "class StatsmodelsOLS:\n",
    "    def __init__(self, data: pd.DataFrame, design: str) -> None:\n",
    "        self.data = data\n",
    "        self.contrast_builder = formulaic_contrasts.FormulaicContrasts(data, design)\n",
    "\n",
    "    def fit(self, variable: str):\n",
    "        self.mod = sm.OLS(self.data[variable], self.contrast_builder.design)\n",
    "        self.mod = self.mod.fit()\n",
    "\n",
    "    def cond(self, **kwargs):\n",
    "        return self.contrast_builder.cond(**kwargs)\n",
    "\n",
    "    def contrast(self, *args, **kwargs):\n",
    "        return self.contrast_builder.contrast(*args, **kwargs)\n",
    "\n",
    "    def t_test(self, contrast: np.ndarray):\n",
    "        return self.mod.t_test(contrast)"
   ]
  },
  {
   "cell_type": "markdown",
   "metadata": {},
   "source": [
    "The result is the same:"
   ]
  },
  {
   "cell_type": "code",
   "execution_count": 70,
   "metadata": {},
   "outputs": [
    {
     "data": {
      "text/plain": [
       "<class 'statsmodels.stats.contrast.ContrastResults'>\n",
       "                             Test for Constraints                             \n",
       "==============================================================================\n",
       "                 coef    std err          t      P>|t|      [0.025      0.975]\n",
       "------------------------------------------------------------------------------\n",
       "c0            -1.6492      0.935     -1.764      0.082      -3.512       0.213\n",
       "=============================================================================="
      ]
     },
     "execution_count": 70,
     "metadata": {},
     "output_type": "execute_result"
    }
   ],
   "source": [
    "model = StatsmodelsOLS(df, \"~ treatment * response\")\n",
    "model.fit(\"biomarker\")\n",
    "model.t_test(model.contrast(\"response\", baseline=\"non_responder\", group_to_compare=\"responder\"))"
   ]
  },
  {
   "cell_type": "markdown",
   "metadata": {},
   "source": [
    "## Manual usage\n",
    "\n",
    "You can also use the lower-level interface {func}`~formulaic_contrasts.get_factor_storage_and_materializer` to \n",
    "introspect formulaic models if the `FormulaicContrasts` class doesn't fit your needs. "
   ]
  },
  {
   "cell_type": "code",
   "execution_count": 39,
   "metadata": {},
   "outputs": [],
   "source": [
    "factor_storage, variables_to_factors, materializer_class = get_factor_storage_and_materializer()"
   ]
  },
  {
   "cell_type": "markdown",
   "metadata": {},
   "source": [
    "`factor_storage` will keep track of *factors* used in the formula, while `variables_to_factors` will keep \n",
    "track of *variables* used in the formula, whenever a formula is materialized into a design matrix using the `materializer_class`. "
   ]
  },
  {
   "cell_type": "code",
   "execution_count": 41,
   "metadata": {},
   "outputs": [],
   "source": [
    "design_mat = materializer_class(df, record_factor_metadata=True).get_model_matrix(\"~ treatment * response\")"
   ]
  },
  {
   "cell_type": "code",
   "execution_count": 46,
   "metadata": {},
   "outputs": [
    {
     "name": "stdout",
     "output_type": "stream",
     "text": [
      "defaultdict(<class 'list'>,\n",
      "            {'response': [FactorMetadata(name='response',\n",
      "                                         reduced_rank=True,\n",
      "                                         custom_encoder=False,\n",
      "                                         categories=('non_responder',\n",
      "                                                     'responder'),\n",
      "                                         kind=<Kind.CATEGORICAL: 'categorical'>,\n",
      "                                         drop_field='non_responder',\n",
      "                                         column_names=('non_responder',\n",
      "                                                       'responder'),\n",
      "                                         colname_format='{name}[T.{field}]')],\n",
      "             'treatment': [FactorMetadata(name='treatment',\n",
      "                                          reduced_rank=True,\n",
      "                                          custom_encoder=False,\n",
      "                                          categories=('drugA', 'drugB'),\n",
      "                                          kind=<Kind.CATEGORICAL: 'categorical'>,\n",
      "                                          drop_field='drugA',\n",
      "                                          column_names=('drugA', 'drugB'),\n",
      "                                          colname_format='{name}[T.{field}]')]})\n"
     ]
    }
   ],
   "source": [
    "pprint(factor_storage)"
   ]
  },
  {
   "cell_type": "code",
   "execution_count": 43,
   "metadata": {},
   "outputs": [
    {
     "data": {
      "text/plain": [
       "defaultdict(set, {'treatment': {'treatment'}, 'response': {'response'}})"
      ]
     },
     "execution_count": 43,
     "metadata": {},
     "output_type": "execute_result"
    }
   ],
   "source": [
    "variables_to_factors"
   ]
  },
  {
   "cell_type": "code",
   "execution_count": 52,
   "metadata": {},
   "outputs": [
    {
     "name": "stderr",
     "output_type": "stream",
     "text": [
      "/home/sturm/projects/scverse/formulaic-contrasts/.venv/lib/python3.11/site-packages/pandas/core/arraylike.py:399: RuntimeWarning: invalid value encountered in log\n",
      "  result = getattr(ufunc, method)(*inputs, **kwargs)\n"
     ]
    }
   ],
   "source": [
    "factor_storage, variables_to_factors, materializer_class = get_factor_storage_and_materializer()\n",
    "design_mat = materializer_class(df, record_factor_metadata=True).get_model_matrix(\n",
    "    \"~ biomarker + np.log(biomarker) + C(treatment, contr.treatment(base='drugB'))\"\n",
    ")"
   ]
  },
  {
   "cell_type": "code",
   "execution_count": 54,
   "metadata": {},
   "outputs": [
    {
     "name": "stdout",
     "output_type": "stream",
     "text": [
      "dict_keys(['biomarker', 'np.log(biomarker)', \"C(treatment, contr.treatment(base='drugB'))\"])\n"
     ]
    }
   ],
   "source": [
    "pprint(factor_storage.keys())"
   ]
  },
  {
   "cell_type": "code",
   "execution_count": 56,
   "metadata": {},
   "outputs": [
    {
     "name": "stdout",
     "output_type": "stream",
     "text": [
      "defaultdict(<class 'set'>,\n",
      "            {'C': {\"C(treatment, contr.treatment(base='drugB'))\"},\n",
      "             'biomarker': {'biomarker', 'np.log(biomarker)'},\n",
      "             'contr.treatment': {\"C(treatment, contr.treatment(base='drugB'))\"},\n",
      "             'np.log': {'np.log(biomarker)'},\n",
      "             'treatment': {\"C(treatment, contr.treatment(base='drugB'))\"}})\n"
     ]
    }
   ],
   "source": [
    "pprint(variables_to_factors)"
   ]
  },
  {
   "cell_type": "code",
   "execution_count": null,
   "metadata": {},
   "outputs": [],
   "source": []
  }
 ],
 "metadata": {
  "kernelspec": {
   "display_name": ".venv",
   "language": "python",
   "name": "python3"
  },
  "language_info": {
   "codemirror_mode": {
    "name": "ipython",
    "version": 3
   },
   "file_extension": ".py",
   "mimetype": "text/x-python",
   "name": "python",
   "nbconvert_exporter": "python",
   "pygments_lexer": "ipython3",
   "version": "3.11.10"
  }
 },
 "nbformat": 4,
 "nbformat_minor": 2
}
